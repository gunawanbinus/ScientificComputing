{
  "nbformat": 4,
  "nbformat_minor": 0,
  "metadata": {
    "colab": {
      "provenance": [],
      "authorship_tag": "ABX9TyMikgcFjxHkFPVYNkunS8zE",
      "include_colab_link": true
    },
    "kernelspec": {
      "name": "python3",
      "display_name": "Python 3"
    },
    "language_info": {
      "name": "python"
    }
  },
  "cells": [
    {
      "cell_type": "markdown",
      "metadata": {
        "id": "view-in-github",
        "colab_type": "text"
      },
      "source": [
        "<a href=\"https://colab.research.google.com/github/gunawanbinus/ScientificComputing2/blob/main/2702236963_Angelyn_Gunawan_NUMPY_LINALG.ipynb\" target=\"_parent\"><img src=\"https://colab.research.google.com/assets/colab-badge.svg\" alt=\"Open In Colab\"/></a>"
      ]
    },
    {
      "cell_type": "markdown",
      "source": [
        "**Nama:** Angelyn Gunawan\n",
        "\n",
        "**NIM:** 2702236963"
      ],
      "metadata": {
        "id": "LSdcAR3fi4Pl"
      }
    },
    {
      "cell_type": "code",
      "execution_count": null,
      "metadata": {
        "colab": {
          "base_uri": "https://localhost:8080/"
        },
        "id": "9ndXDBGCwV5e",
        "outputId": "a2658901-10a0-450a-e486-7439a96e86ec"
      },
      "outputs": [
        {
          "output_type": "stream",
          "name": "stdout",
          "text": [
            "[ 2.20833333 -2.58333333 -0.18333333]\n"
          ]
        }
      ],
      "source": [
        "import numpy as np\n",
        "\n",
        "A = np.array([[4, 3, -5],\n",
        "              [-2, -4, 5],\n",
        "              [8, 8, 0]])\n",
        "y = np.array([2, 5, -3])\n",
        "\n",
        "x = np.linalg.solve(A, y)\n",
        "print(x)"
      ]
    },
    {
      "cell_type": "code",
      "source": [
        "A_inv = np.linalg.inv(A)\n",
        "\n",
        "x = np.dot(A_inv, y)\n",
        "print(x)"
      ],
      "metadata": {
        "colab": {
          "base_uri": "https://localhost:8080/"
        },
        "id": "PF6aHsTjxD7s",
        "outputId": "7429c730-9268-4a61-b437-a73b7923bdea"
      },
      "execution_count": null,
      "outputs": [
        {
          "output_type": "stream",
          "name": "stdout",
          "text": [
            "[ 2.20833333 -2.58333333 -0.18333333]\n"
          ]
        }
      ]
    },
    {
      "cell_type": "markdown",
      "source": [
        "**LINK GITHUB:** https://github.com/gunawanbinus/ScientificComputing/blob/main/2702236963_Angelyn_Gunawan_NUMPY_LINALG.ipynb"
      ],
      "metadata": {
        "id": "GTNJRFxNjQPr"
      }
    }
  ]
}