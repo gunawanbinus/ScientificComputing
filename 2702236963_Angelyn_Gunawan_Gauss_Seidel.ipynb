{
  "nbformat": 4,
  "nbformat_minor": 0,
  "metadata": {
    "colab": {
      "provenance": [],
      "authorship_tag": "ABX9TyO4niOBywF6hooIp+4URlHI",
      "include_colab_link": true
    },
    "kernelspec": {
      "name": "python3",
      "display_name": "Python 3"
    },
    "language_info": {
      "name": "python"
    }
  },
  "cells": [
    {
      "cell_type": "markdown",
      "metadata": {
        "id": "view-in-github",
        "colab_type": "text"
      },
      "source": [
        "<a href=\"https://colab.research.google.com/github/gunawanbinus/ScientificComputing2/blob/main/2702236963_Angelyn_Gunawan_Gauss_Seidel.ipynb\" target=\"_parent\"><img src=\"https://colab.research.google.com/assets/colab-badge.svg\" alt=\"Open In Colab\"/></a>"
      ]
    },
    {
      "cell_type": "markdown",
      "source": [
        "**Nama:** Angelyn Gunawan\n",
        "\n",
        "**NIM:** 2702236963"
      ],
      "metadata": {
        "id": "D4jeY82shOtA"
      }
    },
    {
      "cell_type": "code",
      "execution_count": null,
      "metadata": {
        "colab": {
          "base_uri": "https://localhost:8080/"
        },
        "id": "deZkSPEboN2N",
        "outputId": "1b171d6e-3904-47c3-eed4-64f5309d9f62"
      },
      "outputs": [
        {
          "output_type": "stream",
          "name": "stdout",
          "text": [
            "matrix is diagonally dominant\n"
          ]
        }
      ],
      "source": [
        "import numpy as np\n",
        "a = [[8, 3, -3], [-2, -8, 5], [3, 5, 10]]\n",
        "\n",
        "# Find diagonal coefficients\n",
        "diag = np.diag(np.abs(a))\n",
        "\n",
        "# Find row sum without diagonal\n",
        "off_diag = np.sum(np.abs(a), axis=1) - diag\n",
        "\n",
        "if np.all(diag > off_diag):\n",
        "    print('matrix is diagonally dominant')\n",
        "else:\n",
        "    print('NOT diagonally dominant')"
      ]
    },
    {
      "cell_type": "code",
      "source": [
        "x1 = 0\n",
        "x2 = 0\n",
        "x3 = 0\n",
        "epsilon = 0.01\n",
        "converged = False\n",
        "\n",
        "x_old = np.array([x1, x2, x3])"
      ],
      "metadata": {
        "id": "7sBXhcrRqAb9"
      },
      "execution_count": null,
      "outputs": []
    },
    {
      "cell_type": "code",
      "source": [
        "print('Iteration results')\n",
        "print(' k,    x1,    x2,    x3 ')\n",
        "for k in range(1, 50):\n",
        "    x1 = (14-3*x2+3*x3)/8\n",
        "    x2 = (5+2*x1-5*x3)/(-8)\n",
        "    x3 = (-8-3*x1-5*x2)/(10)\n",
        "    x = np.array([x1, x2, x3])\n",
        "    # check if it is smaller than threshold\n",
        "    dx = np.sqrt(np.dot(x-x_old, x-x_old))\n",
        "\n",
        "    print(\"%d, %.4f, %.4f, %.4f\"%(k, x1, x2, x3))\n",
        "    if dx < epsilon:\n",
        "        converged = True\n",
        "        print('Converged!')\n",
        "        break\n",
        "\n",
        "    # assign the latest x value to the old value\n",
        "    x_old = x\n",
        "\n",
        "if not converged:\n",
        "    print('Not converge, increase the # of iterations')"
      ],
      "metadata": {
        "colab": {
          "base_uri": "https://localhost:8080/"
        },
        "id": "b0RY2VVmqlH0",
        "outputId": "00ddbfe6-55d8-453d-a86f-6c51da2e7d92"
      },
      "execution_count": null,
      "outputs": [
        {
          "output_type": "stream",
          "name": "stdout",
          "text": [
            "Iteration results\n",
            " k,    x1,    x2,    x3 \n",
            "1, 1.7500, -1.0625, -0.7937\n",
            "2, 1.8508, -1.5838, -0.5633\n",
            "3, 2.1327, -1.5103, -0.6847\n",
            "4, 2.0596, -1.5678, -0.6340\n",
            "5, 2.1002, -1.5463, -0.6569\n",
            "6, 2.0835, -1.5565, -0.6468\n",
            "7, 2.0911, -1.5520, -0.6513\n",
            "Converged!\n"
          ]
        }
      ]
    },
    {
      "cell_type": "markdown",
      "source": [
        "**LINK GITHUB:** https://github.com/gunawanbinus/ScientificComputing/blob/main/2702236963_Angelyn_Gunawan_Gauss_Seidel.ipynb"
      ],
      "metadata": {
        "id": "mbT38wiRhnon"
      }
    }
  ]
}