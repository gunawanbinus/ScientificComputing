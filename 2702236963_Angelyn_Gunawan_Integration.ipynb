{
  "nbformat": 4,
  "nbformat_minor": 0,
  "metadata": {
    "colab": {
      "provenance": [],
      "authorship_tag": "ABX9TyOXDZC+Be6kUxnkbDB9tyfO",
      "include_colab_link": true
    },
    "kernelspec": {
      "name": "python3",
      "display_name": "Python 3"
    },
    "language_info": {
      "name": "python"
    }
  },
  "cells": [
    {
      "cell_type": "markdown",
      "metadata": {
        "id": "view-in-github",
        "colab_type": "text"
      },
      "source": [
        "<a href=\"https://colab.research.google.com/github/gunawanbinus/ScientificComputing2/blob/main/2702236963_Angelyn_Gunawan_Integration.ipynb\" target=\"_parent\"><img src=\"https://colab.research.google.com/assets/colab-badge.svg\" alt=\"Open In Colab\"/></a>"
      ]
    },
    {
      "cell_type": "markdown",
      "source": [
        "**Nama:** Angelyn Gunawan\n",
        "\n",
        "**NIM:** 2702236963"
      ],
      "metadata": {
        "id": "AeZy7_U6Disp"
      }
    },
    {
      "cell_type": "markdown",
      "source": [
        "### Riemann"
      ],
      "metadata": {
        "id": "6HK2NuR80xgT"
      }
    },
    {
      "cell_type": "code",
      "execution_count": null,
      "metadata": {
        "colab": {
          "base_uri": "https://localhost:8080/"
        },
        "id": "fAhO7_6Ox_Z9",
        "outputId": "8d77dca5-a810-43f3-c3f0-a6e5963757fb"
      },
      "outputs": [
        {
          "output_type": "stream",
          "name": "stdout",
          "text": [
            "1.9835235375094546\n",
            "0.01647646249054535\n",
            "1.9835235375094546\n",
            "0.01647646249054535\n",
            "2.0082484079079745\n",
            "-0.008248407907974542\n"
          ]
        }
      ],
      "source": [
        "import numpy as np\n",
        "\n",
        "a = 0\n",
        "b = np.pi\n",
        "n = 11\n",
        "h = (b - a) / (n - 1)\n",
        "x = np.linspace(a, b, n)\n",
        "f = np.sin(x)\n",
        "\n",
        "I_riemannL = h * sum(f[:n-1])\n",
        "err_riemannL = 2 - I_riemannL\n",
        "\n",
        "I_riemannR = h * sum(f[1::])\n",
        "err_riemannR = 2 - I_riemannR\n",
        "\n",
        "I_mid = h * sum(np.sin((x[:n-1] \\\n",
        "        + x[1:])/2))\n",
        "err_mid = 2 - I_mid\n",
        "\n",
        "print(I_riemannL)\n",
        "print(err_riemannL)\n",
        "\n",
        "print(I_riemannR)\n",
        "print(err_riemannR)\n",
        "\n",
        "print(I_mid)\n",
        "print(err_mid)"
      ]
    },
    {
      "cell_type": "markdown",
      "source": [
        "### Trapezoid"
      ],
      "metadata": {
        "id": "KOQVKGEp080m"
      }
    },
    {
      "cell_type": "code",
      "source": [
        "import numpy as np\n",
        "\n",
        "a = 0\n",
        "b = np.pi\n",
        "n = 11\n",
        "h = (b - a) / (n - 1)\n",
        "x = np.linspace(a, b, n)\n",
        "f = np.sin(x)\n",
        "\n",
        "I_trap = (h/2)*(f[0] + \\\n",
        "          2 * sum(f[1:n-1]) + f[n-1])\n",
        "err_trap = 2 - I_trap\n",
        "\n",
        "print(I_trap)\n",
        "print(err_trap)"
      ],
      "metadata": {
        "colab": {
          "base_uri": "https://localhost:8080/"
        },
        "id": "DVZFcm6s0vl1",
        "outputId": "00b18db6-f4c6-40e8-877b-9d40f4d082fa"
      },
      "execution_count": null,
      "outputs": [
        {
          "output_type": "stream",
          "name": "stdout",
          "text": [
            "1.9835235375094546\n",
            "0.01647646249054535\n"
          ]
        }
      ]
    },
    {
      "cell_type": "code",
      "source": [
        "import numpy as np\n",
        "from scipy.integrate import trapz\n",
        "\n",
        "a = 0\n",
        "b = np.pi\n",
        "n = 11\n",
        "h = (b - a) / (n - 1)\n",
        "x = np.linspace(a, b, n)\n",
        "f = np.sin(x)\n",
        "\n",
        "I_trapz = trapz(f,x)\n",
        "I_trap = (h/2)*(f[0] + 2 * sum(f[1:n-1]) + f[n-1])\n",
        "\n",
        "print(I_trapz)\n",
        "print(I_trap)"
      ],
      "metadata": {
        "colab": {
          "base_uri": "https://localhost:8080/"
        },
        "id": "zsMsIdL412hg",
        "outputId": "34722ac1-9e9a-4d33-9bcc-86b78d0cc794"
      },
      "execution_count": null,
      "outputs": [
        {
          "output_type": "stream",
          "name": "stdout",
          "text": [
            "1.9835235375094544\n",
            "1.9835235375094546\n"
          ]
        }
      ]
    },
    {
      "cell_type": "markdown",
      "source": [
        "### Simpson's"
      ],
      "metadata": {
        "id": "OQzl9w8y3Pdn"
      }
    },
    {
      "cell_type": "code",
      "source": [
        "from scipy.integrate import quad\n",
        "I_quad, est_err_quad = \\\n",
        "          quad(np.sin, 0, np.pi)\n",
        "print(I_quad)\n",
        "err_quad = 2 - I_quad\n",
        "print(est_err_quad, err_quad)"
      ],
      "metadata": {
        "colab": {
          "base_uri": "https://localhost:8080/"
        },
        "id": "KczdGQEZ3UN_",
        "outputId": "85dc74db-9e5a-47d4-9b7a-3c78c5053c93"
      },
      "execution_count": null,
      "outputs": [
        {
          "output_type": "stream",
          "name": "stdout",
          "text": [
            "2.0\n",
            "2.220446049250313e-14 0.0\n"
          ]
        }
      ]
    },
    {
      "cell_type": "markdown",
      "source": [
        "### Quiz"
      ],
      "metadata": {
        "id": "ghpAII0fBpT_"
      }
    },
    {
      "cell_type": "code",
      "source": [
        "import numpy as np\n",
        "from scipy.integrate import trapz\n",
        "\n",
        "a = 0\n",
        "b = np.pi\n",
        "n = 9\n",
        "h = (b - a) / (n - 1)\n",
        "x = np.linspace(a, b, n)\n",
        "f = np.sin(x)\n",
        "\n",
        "I_trapz = trapz(f,x)\n",
        "\n",
        "print(\"n = 9 --> \", I_trapz)"
      ],
      "metadata": {
        "colab": {
          "base_uri": "https://localhost:8080/"
        },
        "id": "esDrnv0aBsMQ",
        "outputId": "7a9b7629-1d5c-4045-dea9-7e2c489c81ff"
      },
      "execution_count": 2,
      "outputs": [
        {
          "output_type": "stream",
          "name": "stdout",
          "text": [
            "n = 9 -->  1.9742316019455508\n"
          ]
        }
      ]
    },
    {
      "cell_type": "code",
      "source": [
        "import numpy as np\n",
        "from scipy.integrate import trapz\n",
        "\n",
        "a = 0\n",
        "b = np.pi\n",
        "n = 17\n",
        "h = (b - a) / (n - 1)\n",
        "x = np.linspace(a, b, n)\n",
        "f = np.sin(x)\n",
        "\n",
        "I_trapz = trapz(f,x)\n",
        "\n",
        "print(\"n = 17 --> \", I_trapz)"
      ],
      "metadata": {
        "colab": {
          "base_uri": "https://localhost:8080/"
        },
        "id": "D_7dAf7jDb5h",
        "outputId": "52d4e0e2-87f8-484d-aaed-126c88193a3f"
      },
      "execution_count": 3,
      "outputs": [
        {
          "output_type": "stream",
          "name": "stdout",
          "text": [
            "n = 17 -->  1.9935703437723393\n"
          ]
        }
      ]
    },
    {
      "cell_type": "markdown",
      "source": [
        "**LINK GITHUB:** https://github.com/gunawanbinus/ScientificComputing/blob/main/2702236963_Angelyn_Gunawan_Integration.ipynb"
      ],
      "metadata": {
        "id": "A3CR0LGfuTyT"
      }
    }
  ]
}